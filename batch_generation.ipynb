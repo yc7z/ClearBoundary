{
 "cells": [
  {
   "cell_type": "code",
   "execution_count": 7,
   "id": "50d7bb61-54c8-4cd4-8b4b-f5da3c6c5394",
   "metadata": {},
   "outputs": [],
   "source": [
    "import PIL\n",
    "import jax.numpy as jnp\n",
    "from tensorflow.io import gfile\n",
    "from scenic.projects.boundary_attention.configs import base_config\n",
    "from scenic.projects.boundary_attention.helpers import train_utils\n",
    "from scenic.projects.boundary_attention.helpers import viz_utils\n",
    "\n",
    "import tensorflow_datasets as tfds\n",
    "import scenic.projects.boundary_attention.kaleidoshapes.kaleidoshapes\n",
    "\n",
    "import ml_collections\n",
    "import jax\n",
    "\n",
    "from scenic.projects.boundary_attention.dataset_lib import dataloader\n",
    "from scenic.projects.boundary_attention.configs import kaleidoshapes_config\n",
    "from scenic.projects.boundary_attention.dataset_lib.datasets import kaleidoshapes_dataset\n",
    "\n",
    "import matplotlib.pyplot as plt\n",
    "\n",
    "import numpy as np"
   ]
  },
  {
   "cell_type": "code",
   "execution_count": 9,
   "id": "fd1d4d61-6e20-48ac-be45-2541913d5be1",
   "metadata": {},
   "outputs": [],
   "source": [
    "def create_dataloader(batch_size, \n",
    "                      dataset_dir = 'scenic/projects/boundary_attention/kaleidoshapes_dataset/kaleidoshapes',\n",
    "                      rng_seed = 0, \n",
    "                      imshape = (125,125,3)\n",
    "                     ):\n",
    "    #intialize config\n",
    "    config = ml_collections.ConfigDict()\n",
    "    \n",
    "    #config settings\n",
    "    config.dataset = kaleidoshapes_config.get_config_kaleidoshapes(dataset_dir)\n",
    "    config.dataset.crop_size = imshape\n",
    "    config.batch_size = batch_size\n",
    "    config.eval_batch_size = batch_size\n",
    "    \n",
    "    #create_dataloader\n",
    "    kaleidoshapes_dataset = dataloader.get_dataloader(config, jax.random.PRNGKey(rng_seed))\n",
    "\n",
    "    return(kaleidoshapes_dataset)"
   ]
  },
  {
   "cell_type": "code",
   "execution_count": 11,
   "id": "d5421f45-dd0e-4a91-aa8f-5c7556c2807a",
   "metadata": {},
   "outputs": [],
   "source": [
    "def create_model_BA(weights_dir = 'scenic/projects/boundary_attention/pretrained_weights/', \n",
    "                    imshape = (125,125,3)):\n",
    "    config = base_config.get_config(model_name='boundary_attention',\n",
    "                                  dataset_name='testing',\n",
    "                                  input_size=imshape)\n",
    "    return train_utils.make_apply(config, weights_dir) # tuple: (apply_jitted, trained_params)"
   ]
  },
  {
   "cell_type": "code",
   "execution_count": 13,
   "id": "62186409-0e3e-4de9-9c8a-3d7657e391d9",
   "metadata": {},
   "outputs": [],
   "source": [
    "def apply_noise(img, sigma):\n",
    "    return(img)"
   ]
  },
  {
   "cell_type": "code",
   "execution_count": 35,
   "id": "0669abf1-c93d-4592-99e2-fe8bb9c53e99",
   "metadata": {},
   "outputs": [],
   "source": [
    "def create_batch(data_loader,\n",
    "                 boundary_model, # tuple: (apply_jitted, trained_params)\n",
    "                 noise_levels = [0.1,0.2], \n",
    "                 num_images_per_level = 2\n",
    "                ):\n",
    "    \n",
    "    next_batch = next(data_loader.train_iter)\n",
    "\n",
    "    processed_batch = {}\n",
    "\n",
    "    for i in range(next_batch['segments'].shape[1]):\n",
    "        img_out = []\n",
    "        for noise in noise_levels:\n",
    "            for j in range(num_images_per_level):\n",
    "                img_arr = np.moveaxis(np.array(next_batch['segments'][0, i, :, :, :]), 0, 2)\n",
    "\n",
    "                noisy_img = apply_noise(img_arr, noise)\n",
    "                \n",
    "                img = PIL.Image.fromarray(noisy_img.astype(np.uint8)[:,:,0], mode='L').convert(\"RGB\")\n",
    "                img = jnp.array(img)/255\n",
    "                \n",
    "                input_img = jnp.expand_dims(img.transpose(2,0,1)[:3,:,:], axis=0)\n",
    "    \n",
    "                outputs = boundary_model[0](boundary_model[1]['params'], input_img)\n",
    "\n",
    "                boundaries = (outputs[-1]['global_boundaries'].squeeze() * \n",
    "                              (outputs[-1]['global_boundaries'].squeeze() > .3))[8:-8, 8:-8]\n",
    "\n",
    "                img_out.append((img_arr, noise, noisy_img, boundaries))\n",
    "\n",
    "            \n",
    "        processed_batch[i] = img_out\n",
    "\n",
    "    return processed_batch"
   ]
  },
  {
   "cell_type": "code",
   "execution_count": 37,
   "id": "3b60ed5b-79cc-4392-8d11-67acd890be78",
   "metadata": {},
   "outputs": [],
   "source": [
    "batch = create_batch(create_dataloader(5), create_model_BA())"
   ]
  },
  {
   "cell_type": "code",
   "execution_count": 65,
   "id": "5ca838e3-856f-4ac7-9f88-184d240cf47d",
   "metadata": {},
   "outputs": [
    {
     "data": {
      "text/plain": [
       "jaxlib.xla_extension.ArrayImpl"
      ]
     },
     "execution_count": 65,
     "metadata": {},
     "output_type": "execute_result"
    }
   ],
   "source": [
    "type(batch[0][0][3])"
   ]
  },
  {
   "cell_type": "code",
   "execution_count": 59,
   "id": "722298c3-50c9-4b3a-8edb-8921bb5b2edb",
   "metadata": {},
   "outputs": [
    {
     "data": {
      "text/plain": [
       "<matplotlib.image.AxesImage at 0x321d74ad0>"
      ]
     },
     "execution_count": 59,
     "metadata": {},
     "output_type": "execute_result"
    },
    {
     "data": {
      "image/png": "[encoded data removed]",
      "text/plain": [
       "<Figure size 640x480 with 1 Axes>"
      ]
     },
     "metadata": {},
     "output_type": "display_data"
    }
   ],
   "source": [
    "plt.imshow(batch[3][0][3])"
   ]
  },
  {
   "cell_type": "code",
   "execution_count": null,
   "id": "58a5db00-c990-45a9-ba21-73c67a0a792d",
   "metadata": {},
   "outputs": [],
   "source": []
  }
 ],
 "metadata": {
  "kernelspec": {
   "display_name": "Python 3 (ipykernel)",
   "language": "python",
   "name": "python3"
  },
  "language_info": {
   "codemirror_mode": {
    "name": "ipython",
    "version": 3
   },
   "file_extension": ".py",
   "mimetype": "text/x-python",
   "name": "python",
   "nbconvert_exporter": "python",
   "pygments_lexer": "ipython3",
   "version": "3.12.4"
  }
 },
 "nbformat": 4,
 "nbformat_minor": 5
}
